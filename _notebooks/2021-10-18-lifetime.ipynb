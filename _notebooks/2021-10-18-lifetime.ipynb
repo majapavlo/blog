{
 "cells": [
  {
   "cell_type": "markdown",
   "source": [
    "# Customer Lifetime Value Prediction using a Deep Probabilistic Neural Network\n",
    "> A run through a google paper.\n",
    "\n",
    "- toc: true \n",
    "- badges: true\n",
    "- comments: true\n",
    "- categories: [jupyter]\n",
    "- image: images/chart-preview.png"
   ],
   "metadata": {}
  },
  {
   "cell_type": "markdown",
   "source": [
    "# About\n",
    "\n",
    "### This post will run through the paper: \"A Deep Probabilistic Model for Customer Lifetime Value Prediction\" by Xiaojing Wang, Tianqi Liu, Jingang Miao.\n",
    "\n",
    "---\n",
    "\n",
    "What you should expect to find in this post: \n",
    "\n",
    "1. Why you should care about customer lifetime value and it's _unique_ distribution\n",
    "\n",
    "2. The proposed architecture of the multi-task neural network\n",
    "\n",
    "    simple feed forward neural network\n",
    "\n",
    "3. Drawbacks of using MSE for the longtail distribution of ltv & the proposed loss function for the neural network.\n",
    "\n",
    "4. The results of....\n"
   ],
   "metadata": {}
  },
  {
   "cell_type": "code",
   "execution_count": null,
   "source": [],
   "outputs": [],
   "metadata": {}
  },
  {
   "cell_type": "markdown",
   "source": [
    "## Summary\n",
    "\n",
    "What we covered: \n",
    "\n",
    "Why MSE is not "
   ],
   "metadata": {}
  }
 ],
 "metadata": {
  "kernelspec": {
   "display_name": "visualization-curriculum-gF8wUgMm",
   "language": "python",
   "name": "visualization-curriculum-gf8wugmm"
  },
  "language_info": {
   "codemirror_mode": {
    "name": "ipython",
    "version": 3
   },
   "file_extension": ".py",
   "mimetype": "text/x-python",
   "name": "python",
   "nbconvert_exporter": "python",
   "pygments_lexer": "ipython3",
   "version": "3.6.7"
  },
  "varInspector": {
   "cols": {
    "lenName": 16,
    "lenType": 16,
    "lenVar": 40
   },
   "kernels_config": {
    "python": {
     "delete_cmd_postfix": "",
     "delete_cmd_prefix": "del ",
     "library": "var_list.py",
     "varRefreshCmd": "print(var_dic_list())"
    },
    "r": {
     "delete_cmd_postfix": ") ",
     "delete_cmd_prefix": "rm(",
     "library": "var_list.r",
     "varRefreshCmd": "cat(var_dic_list()) "
    }
   },
   "types_to_exclude": [
    "module",
    "function",
    "builtin_function_or_method",
    "instance",
    "_Feature"
   ],
   "window_display": false
  }
 },
 "nbformat": 4,
 "nbformat_minor": 4
}