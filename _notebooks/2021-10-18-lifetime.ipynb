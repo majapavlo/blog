{
 "cells": [
  {
   "cell_type": "markdown",
   "metadata": {},
   "source": [
    "# Customer Lifetime Value Prediction using a Deep Probabilistic Neural Network\n",
    "> A run through the paper's proposed loss function for.\n",
    "\n",
    "- toc: true\n",
    "- hide: true\n",
    "- badges: true\n",
    "- comments: true\n",
    "- categories: [probabilistic, neural network, loss function]\n",
    "- image: images/previews/lifetime.png"
   ]
  },
  {
   "cell_type": "markdown",
   "metadata": {},
   "source": [
    "## About\n",
    "\n",
    "This post will run through the paper: [\"A Deep Probabilistic Model for Customer Lifetime Value Prediction\"](https://research.google/pubs/pub48791/) by Xiaojing Wang, Tianqi Liu, Jingang Miao.\n",
    "\n",
    "---\n",
    "\n",
    "What to expect/will be covered: \n",
    "\n",
    "1. Why you should care about customer lifetime value and it's _unique_ distribution\n",
    "\n",
    "\n",
    "2. The proposed architecture of the multi-task neural network\n",
    "\n",
    "    simple feed forward neural network\n",
    "\n",
    "\n",
    "3. Drawbacks of using MSE for the longtail distribution of ltv & the proposed loss function for the neural network.\n",
    "\n",
    "    go from MSE to MLE (gaussian) to show benefits of sigma (uncertainty factor), then show how distribution needs lognormal though instead of normal distribution.\n",
    "\n",
    "\n",
    "4. The results and outputs (visualise drawbacks, suggest ideas of what do to maybe (RNN type approach, given that infinite sigma signals bad fit. we need more input rather than what we have))\n",
    "\n",
    "5. How to use the ziln and outputs. Make a predict function. Show outputs ()\n",
    "              \n",
    "            def _mean(self):\n",
    "                return tf.exp(self.distribution.mean() + 0.5 * self.distribution.variance())\n",
    "https://github.com/tensorflow/probability/blob/v0.14.1/tensorflow_probability/python/distributions/lognormal.py "
   ]
  },
  {
   "cell_type": "markdown",
   "metadata": {},
   "source": [
    "## Topic\n",
    "\n",
    "Customer lifetime value (CLV or CLTV) is a widely used marketing metric that informs operational and strategic marketing decisions.\n",
    "\n",
    "\n",
    "Early/initial research efforts stem from direct marketing looking to find approaches for estimating lifetime value (LTV) to help with marketing decision making [1]. It has meanwhile been widely adopted across various business functions/domains/segments and therefore has slightly different definitions/interpretations/ways of calculation depending on the context and use of the metric. Customer lifetime value can be broadly viewed as the revenue that a business will derive from the entire relationship with a customer [2]. Having accurate insights into customers future purchase behaviour can support a variety of business activities such as product development or customer retention. It can also help companies optimise their customer acquisition costs and help with budgeting and allocation of their marketing spend. Another important way in which CLV can be used to support decision making is to segment customers according to their CLV and then personalise marketing activities according to the different segments [3]. This way a company can target specific customer segments with different offers and loyalty schemes thereby spend their resources more cost-efficiently.\n",
    "\n",
    "Don't want to delve too deep into lifetime value. The main objective of this post is to explain what Xiaojing Wang, Tianqi Liu and Jingang Miao did in their paper.\n",
    "\n",
    "### LTV definition \n",
    "\n",
    "<img src=\"https://majapavlo.github.io/blog/images/ltv/ltv_data.png\" alt=\"ltv_definition\" width=\"300\"/>\n",
    "\n",
    "![](/blog/images/ltv/ltv_data.png)\n",
    "\n"
   ]
  },
  {
   "cell_type": "markdown",
   "metadata": {},
   "source": []
  },
  {
   "cell_type": "code",
   "execution_count": null,
   "metadata": {},
   "outputs": [],
   "source": []
  },
  {
   "cell_type": "markdown",
   "metadata": {},
   "source": []
  },
  {
   "cell_type": "markdown",
   "metadata": {},
   "source": [
    "## Summary\n",
    "\n",
    "What we covered: \n",
    "\n",
    "Why MSE loss function is not ideal for predicting ltv. ALternative loss function for multi-task learning of churn and ltv. \n",
    "Drawbacks in results and/or metrics..."
   ]
  },
  {
   "cell_type": "markdown",
   "metadata": {},
   "source": [
    "### References:\n",
    "\n",
    "[1]: F. R. Dwyer, “Customer lifetime valuation to support marketing decision making,” Journal of direct marketing 3, no. 4, pp. 8-15, 1989.\n",
    "\n",
    "[2]: P. E. M. E. H. a. R. M. C. Pfeifer, “Customer lifetime value, customer profitability, and the treatment of acquisition spending,” Journal of managerial issues, pp. 11-25, 2005.\n",
    "\n",
    "[3]: P. R. &. G. J. L. Dickson, “Market segmentation, product differentiation, and marketing strategy,” Journal of marketing, vol. 51(2), pp. 1-10, Dickson, P. R., & Ginter, J. L. (1987). Market segmentation, product differentiation, and marketing strategy. Journal of marketing, 51(2), 1-10.. \n"
   ]
  },
  {
   "cell_type": "markdown",
   "metadata": {},
   "source": []
  }
 ],
 "metadata": {
  "kernelspec": {
   "display_name": "visualization-curriculum-gF8wUgMm",
   "language": "python",
   "name": "visualization-curriculum-gf8wugmm"
  },
  "language_info": {
   "codemirror_mode": {
    "name": "ipython",
    "version": 3
   },
   "file_extension": ".py",
   "mimetype": "text/x-python",
   "name": "python",
   "nbconvert_exporter": "python",
   "pygments_lexer": "ipython3",
   "version": "3.6.7"
  },
  "varInspector": {
   "cols": {
    "lenName": 16,
    "lenType": 16,
    "lenVar": 40
   },
   "kernels_config": {
    "python": {
     "delete_cmd_postfix": "",
     "delete_cmd_prefix": "del ",
     "library": "var_list.py",
     "varRefreshCmd": "print(var_dic_list())"
    },
    "r": {
     "delete_cmd_postfix": ") ",
     "delete_cmd_prefix": "rm(",
     "library": "var_list.r",
     "varRefreshCmd": "cat(var_dic_list()) "
    }
   },
   "types_to_exclude": [
    "module",
    "function",
    "builtin_function_or_method",
    "instance",
    "_Feature"
   ],
   "window_display": false
  }
 },
 "nbformat": 4,
 "nbformat_minor": 4
}
