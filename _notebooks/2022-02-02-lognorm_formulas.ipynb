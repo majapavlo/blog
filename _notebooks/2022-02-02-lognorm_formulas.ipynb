{
 "cells": [
  {
   "cell_type": "markdown",
   "metadata": {},
   "source": [
    "# Formulas & proofs for the Log-normal Distribution\n",
    "> Supporting formulas for the Log-normal Distribution Post\n",
    "\n",
    "- toc: true \n",
    "- badges: true\n",
    "- hide: false\n",
    "- comments: true\n",
    "- categories: []\n",
    "- image: images/previews/lognorm_formulas.PNG"
   ]
  },
  {
   "cell_type": "markdown",
   "metadata": {},
   "source": [
    "## Obtaining the log-normal maximum likelihood estimators\n",
    "We start with the likelihood function which is:\n",
    "\n",
    "![](2022-02-02-lognorm-formulas/F1.PNG)\n",
    "\n",
    "We then take the natural log of the likelihood function (helps simplify our calculations).\n",
    "\n",
    "![](2022-02-02-lognorm-formulas/F2.PNG)\n",
    "\n",
    "To find the μ and σ which maximise our log-likelihood function we take the gradient of our log-likelihood function with respect to μ and σ and set it to 0.\n",
    "\n",
    "![](2022-02-02-lognorm-formulas/F3.PNG)\n",
    "\n",
    "To prove that these two estimators maximise our log-likelihood function we confirm that the Hessian matrix is negative-definite. We won’t look into these steps here.\n",
    "\n",
    "---"
   ]
  },
  {
   "cell_type": "markdown",
   "metadata": {},
   "source": [
    "## Obtaining the mode\n",
    "\n",
    "$$PDF: f(x) = \\frac{1}{x\\sigma \\sqrt{2\\pi}} e^{-\\frac{\\left(ln (x) -\\mu\\right)^2}{2\\sigma^2} }$$"
   ]
  },
  {
   "cell_type": "markdown",
   "metadata": {},
   "source": [
    "\n",
    "The mode is the value that maximises the probability density function (pdf). We, therefore, take the gradient with respect to x and set it equal to 0.\n",
    "\n",
    "![](2022-02-02-lognorm-formulas/F5.PNG)\n"
   ]
  },
  {
   "cell_type": "markdown",
   "metadata": {},
   "source": [
    "## Obtaining the median\n",
    "\n",
    "$$CDF: f(x) = \\frac{1}{2} \\left[ 1+ erf\\left( \\frac{ln (x) -\\mu}{\\sqrt{2\\sigma^2}}\\right) \\right] $$"
   ]
  },
  {
   "cell_type": "markdown",
   "metadata": {},
   "source": [
    "erf is the error function. The median is the value where the cumulative distribution function (cdf) is 0.5.\n",
    "\n",
    "![](2022-02-02-lognorm-formulas/F7.PNG)"
   ]
  },
  {
   "cell_type": "markdown",
   "metadata": {},
   "source": [
    "References:\n",
    "\n",
    "[1] Wikipedia, [Maximum Likelihood Estimation](https://en.wikipedia.org/wiki/Maximum_likelihood) (2022), retrieved on 2022–02–06\n",
    "\n",
    "[2] J. Soch, K. Petrykowski, T. Faulkenberry, [The Book of Statistical Proofs](https://statproofbook.github.io/P/lognorm-pdf) (2021), github.io\n",
    "\n",
    "[3] Mdoc, [Mode of lognormal distribution](https://math.stackexchange.com/q/1321626) (2022), retrieved on 2022–02–04, Mathematics Stack Exchange, URL (version: 2015–06–11)"
   ]
  },
  {
   "cell_type": "markdown",
   "metadata": {},
   "source": []
  }
 ],
 "metadata": {
  "language_info": {
   "name": "python"
  },
  "orig_nbformat": 4
 },
 "nbformat": 4,
 "nbformat_minor": 2
}
