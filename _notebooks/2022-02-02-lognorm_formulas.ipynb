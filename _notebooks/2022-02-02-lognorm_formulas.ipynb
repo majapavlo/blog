{
 "cells": [
  {
   "cell_type": "markdown",
   "metadata": {},
   "source": [
    "# Formulas & proofs for the Log-normal Distribution\n",
    "> Supporting formulas for the Log-normal Distribution Post\n",
    "\n",
    "- toc: true \n",
    "- badges: true\n",
    "- hide: false\n",
    "- comments: true\n",
    "- categories: []\n",
    "- image: images/previews/lognorm_formulas.PNG"
   ]
  },
  {
   "cell_type": "markdown",
   "metadata": {},
   "source": [
    "## Obtaining the log-normal maximum likelihood estimators:\n",
    "We start with the likelihood function which is:\n",
    "\n",
    "![](2022-02-02-lognorm-formulas/F1.PNG)\n",
    "\n",
    "We then take the natural log of the likelihood function (helps simplify our calculations).\n",
    "\n",
    "![](2022-02-02-lognorm-formulas/F2.PNG)\n",
    "\n",
    "To find the μ and σ which maximise our log-likelihood function we take the gradient of our log-likelihood function with respect to μ and σ and set it to 0.\n",
    "\n",
    "![](2022-02-02-lognorm-formulas/F3.PNG)\n",
    "\n",
    "To prove that these two estimators maximise our log-likelihood function we confirm that the Hessian matrix is negative-definite. We won’t look into these steps here.\n",
    "\n",
    "..."
   ]
  },
  {
   "cell_type": "markdown",
   "metadata": {},
   "source": [
    "## Obtaining the mode:\n",
    "\n",
    "![](2022-02-02-lognorm-formulas/F4.PNG)\n",
    "\n",
    "The mode is the value that maximises the probability density function (pdf). We, therefore, take the gradient with respect to x and set it equal to 0.\n",
    "\n",
    "![](2022-02-02-lognorm-formulas/F5.PNG)\n"
   ]
  },
  {
   "cell_type": "markdown",
   "metadata": {},
   "source": [
    "## Obtaining the median:\n",
    "\n",
    "![](2022-02-02-lognorm-formulas/F6.PNG)\n",
    "\n",
    "erf is the error function. The median is the value where the cumulative distribution function (cdf) is 0.5.\n",
    "\n",
    "![](2022-02-02-lognorm-formulas/F7.PNG)"
   ]
  },
  {
   "cell_type": "markdown",
   "metadata": {},
   "source": [
    "References:\n",
    "[1] Wikipedia, Maximum Likelihood Estimation (2022), retrieved on 2022–02–06\n",
    "[2] J. Soch, K. Petrykowski, T. Faulkenberry, The Book of Statistical Proofs (2021), github.io\n",
    "[3] Mdoc, Mode of lognormal distribution (2022), retrieved on 2022–02–04, Mathematics Stack Exchange, URL (version: 2015–06–11)"
   ]
  }
 ],
 "metadata": {
  "language_info": {
   "name": "python"
  },
  "orig_nbformat": 4
 },
 "nbformat": 4,
 "nbformat_minor": 2
}
